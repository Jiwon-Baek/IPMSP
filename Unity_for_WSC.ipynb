{
 "cells": [
  {
   "cell_type": "code",
   "id": "initial_id",
   "metadata": {
    "collapsed": true,
    "ExecuteTime": {
     "end_time": "2024-10-11T06:43:46.962590Z",
     "start_time": "2024-10-11T06:43:46.901940Z"
    }
   },
   "source": [
    "import numpy as np\n",
    "\n",
    "import csv\n",
    "\n",
    "def save_to_csv(lmbda, num_job, filename):\n",
    "    # CSV 파일로 저장\n",
    "    data = np.random.exponential(lmbda, num_job)\n",
    "    with open(filename, mode='w', newline='') as file:\n",
    "        writer = csv.writer(file)\n",
    "        writer.writerow(['IAT'])\n",
    "        writer.writerows([[value] for value in data])\n",
    "    \n",
    "save_to_csv(15/5, 100, 'IAT100.csv')"
   ],
   "outputs": [],
   "execution_count": 1
  },
  {
   "metadata": {
    "ExecuteTime": {
     "end_time": "2024-10-11T06:43:46.978104Z",
     "start_time": "2024-10-11T06:43:46.965096Z"
    }
   },
   "cell_type": "code",
   "source": [
    "\n",
    "pt_var = np.random.uniform(low=0.8, high=1.2, size=100)\n",
    "with open('PT_var.csv', mode='w', newline='') as file:\n",
    "        writer = csv.writer(file)\n",
    "        writer.writerow(['PT_var'])\n",
    "        writer.writerows([[value] for value in pt_var])"
   ],
   "id": "7282d354a2bb37d4",
   "outputs": [],
   "execution_count": 2
  },
  {
   "metadata": {
    "ExecuteTime": {
     "end_time": "2024-10-11T06:43:47.475678Z",
     "start_time": "2024-10-11T06:43:47.135127Z"
    }
   },
   "cell_type": "code",
   "source": [
    "import pandas as pd\n",
    "iat = pd.read_csv('IAT100.csv')\n",
    "iat = iat.to_numpy()\n",
    "iat"
   ],
   "id": "89010173019fc1f2",
   "outputs": [
    {
     "data": {
      "text/plain": [
       "array([[5.03800346e-01],\n",
       "       [9.00148186e-01],\n",
       "       [4.20583354e+00],\n",
       "       [4.93004073e+00],\n",
       "       [2.76996050e+00],\n",
       "       [1.97707362e-01],\n",
       "       [1.25006305e-01],\n",
       "       [4.53469469e-02],\n",
       "       [1.90723179e+00],\n",
       "       [3.03304987e+00],\n",
       "       [4.23828970e+00],\n",
       "       [2.89485492e+00],\n",
       "       [1.83981517e+00],\n",
       "       [2.94683556e+00],\n",
       "       [2.49247061e+00],\n",
       "       [2.69399943e+00],\n",
       "       [1.91838130e+00],\n",
       "       [3.09449038e+00],\n",
       "       [5.24498778e-01],\n",
       "       [1.79828430e+00],\n",
       "       [3.11751988e+00],\n",
       "       [1.53104652e+01],\n",
       "       [2.88230849e+00],\n",
       "       [3.96596550e-01],\n",
       "       [5.81629846e-01],\n",
       "       [3.18027566e+00],\n",
       "       [1.63946794e+00],\n",
       "       [4.12453493e+00],\n",
       "       [1.89797459e+00],\n",
       "       [8.20523402e+00],\n",
       "       [1.71592409e+00],\n",
       "       [3.41588586e+00],\n",
       "       [1.19106180e+00],\n",
       "       [1.30426152e+00],\n",
       "       [4.20774232e-01],\n",
       "       [2.86802579e+00],\n",
       "       [1.42616601e+00],\n",
       "       [2.24509238e+00],\n",
       "       [2.36526954e+00],\n",
       "       [9.28613078e+00],\n",
       "       [6.43911682e-01],\n",
       "       [3.25635896e+00],\n",
       "       [1.15110770e+01],\n",
       "       [4.46309223e+00],\n",
       "       [6.92667090e-01],\n",
       "       [1.53246294e+00],\n",
       "       [9.07877080e-01],\n",
       "       [9.39295305e-01],\n",
       "       [5.94741381e-01],\n",
       "       [6.40349754e+00],\n",
       "       [1.91210534e-01],\n",
       "       [4.68905368e-01],\n",
       "       [3.03223720e+00],\n",
       "       [1.26574193e+00],\n",
       "       [2.01772176e-01],\n",
       "       [1.77327268e+01],\n",
       "       [4.77945699e+00],\n",
       "       [3.76239305e+00],\n",
       "       [2.06131725e+00],\n",
       "       [1.54316325e-01],\n",
       "       [5.40151579e-01],\n",
       "       [1.25555952e+00],\n",
       "       [5.45692808e-01],\n",
       "       [1.14983097e+00],\n",
       "       [3.14826529e-01],\n",
       "       [1.47656731e+00],\n",
       "       [1.43353499e+00],\n",
       "       [1.97297640e+00],\n",
       "       [2.41026837e-01],\n",
       "       [6.06149767e-01],\n",
       "       [2.33410540e+00],\n",
       "       [5.88949765e+00],\n",
       "       [1.02014251e+00],\n",
       "       [4.52269322e+00],\n",
       "       [1.65020780e+00],\n",
       "       [5.41738929e+00],\n",
       "       [5.03955287e-01],\n",
       "       [1.45708955e-02],\n",
       "       [9.35090398e+00],\n",
       "       [2.72715576e+00],\n",
       "       [8.66828653e-01],\n",
       "       [2.06047367e-01],\n",
       "       [3.23588166e-01],\n",
       "       [3.33632815e+00],\n",
       "       [9.27014967e+00],\n",
       "       [1.06751958e+00],\n",
       "       [1.61898277e+00],\n",
       "       [5.91689653e+00],\n",
       "       [5.85887547e-02],\n",
       "       [2.84080684e+00],\n",
       "       [3.21558075e+00],\n",
       "       [3.17512514e+00],\n",
       "       [6.13042051e-01],\n",
       "       [5.35646246e+00],\n",
       "       [7.66603230e-03],\n",
       "       [1.50938368e+00],\n",
       "       [1.05564177e+00],\n",
       "       [5.84628910e+00],\n",
       "       [3.42358426e+00],\n",
       "       [6.94078350e-01]])"
      ]
     },
     "execution_count": 3,
     "metadata": {},
     "output_type": "execute_result"
    }
   ],
   "execution_count": 3
  },
  {
   "metadata": {
    "ExecuteTime": {
     "end_time": "2024-10-11T06:43:47.538115Z",
     "start_time": "2024-10-11T06:43:47.523606Z"
    }
   },
   "cell_type": "code",
   "source": "",
   "id": "1081e6e4f334b317",
   "outputs": [],
   "execution_count": null
  },
  {
   "metadata": {
    "ExecuteTime": {
     "end_time": "2024-10-11T06:44:57.138997Z",
     "start_time": "2024-10-11T06:44:57.115793Z"
    }
   },
   "cell_type": "code",
   "source": [
    "import pandas as pd\n",
    "\n",
    "data = pd.read_csv('./output/241010_Heuristic_Log_100/COVERT_sample100_test0.csv')\n",
    "j = data[data['Job']=='Job '+str(0)]\n",
    "j"
   ],
   "id": "2b90c984f6c1818b",
   "outputs": [
    {
     "data": {
      "text/plain": [
       "     Time            Event    Job      Class  Queue                     Memo\n",
       "0    0.00          Created  Job 0     Source    NaN       26.210630105335863\n",
       "1    0.00  Move to Routing  Job 0     Source    1.0                      NaN\n",
       "8    0.00  Move to Machine  Job 0    Routing    0.0  Machine current setup 0\n",
       "9    0.00      Get the Job  Job 0  Machine 0    NaN                      NaN\n",
       "10   0.00            Setup  Job 0  Machine 0    NaN         Job Setup Type 4\n",
       "17   6.00       Work Start  Job 0  Machine 0    NaN                      NaN\n",
       "66  25.47      Work Finish  Job 0  Machine 0    NaN                      NaN\n",
       "67  25.47        Completed  Job 0       Sink    NaN                        0"
      ],
      "text/html": [
       "<div>\n",
       "<style scoped>\n",
       "    .dataframe tbody tr th:only-of-type {\n",
       "        vertical-align: middle;\n",
       "    }\n",
       "\n",
       "    .dataframe tbody tr th {\n",
       "        vertical-align: top;\n",
       "    }\n",
       "\n",
       "    .dataframe thead th {\n",
       "        text-align: right;\n",
       "    }\n",
       "</style>\n",
       "<table border=\"1\" class=\"dataframe\">\n",
       "  <thead>\n",
       "    <tr style=\"text-align: right;\">\n",
       "      <th></th>\n",
       "      <th>Time</th>\n",
       "      <th>Event</th>\n",
       "      <th>Job</th>\n",
       "      <th>Class</th>\n",
       "      <th>Queue</th>\n",
       "      <th>Memo</th>\n",
       "    </tr>\n",
       "  </thead>\n",
       "  <tbody>\n",
       "    <tr>\n",
       "      <th>0</th>\n",
       "      <td>0.00</td>\n",
       "      <td>Created</td>\n",
       "      <td>Job 0</td>\n",
       "      <td>Source</td>\n",
       "      <td>NaN</td>\n",
       "      <td>26.210630105335863</td>\n",
       "    </tr>\n",
       "    <tr>\n",
       "      <th>1</th>\n",
       "      <td>0.00</td>\n",
       "      <td>Move to Routing</td>\n",
       "      <td>Job 0</td>\n",
       "      <td>Source</td>\n",
       "      <td>1.0</td>\n",
       "      <td>NaN</td>\n",
       "    </tr>\n",
       "    <tr>\n",
       "      <th>8</th>\n",
       "      <td>0.00</td>\n",
       "      <td>Move to Machine</td>\n",
       "      <td>Job 0</td>\n",
       "      <td>Routing</td>\n",
       "      <td>0.0</td>\n",
       "      <td>Machine current setup 0</td>\n",
       "    </tr>\n",
       "    <tr>\n",
       "      <th>9</th>\n",
       "      <td>0.00</td>\n",
       "      <td>Get the Job</td>\n",
       "      <td>Job 0</td>\n",
       "      <td>Machine 0</td>\n",
       "      <td>NaN</td>\n",
       "      <td>NaN</td>\n",
       "    </tr>\n",
       "    <tr>\n",
       "      <th>10</th>\n",
       "      <td>0.00</td>\n",
       "      <td>Setup</td>\n",
       "      <td>Job 0</td>\n",
       "      <td>Machine 0</td>\n",
       "      <td>NaN</td>\n",
       "      <td>Job Setup Type 4</td>\n",
       "    </tr>\n",
       "    <tr>\n",
       "      <th>17</th>\n",
       "      <td>6.00</td>\n",
       "      <td>Work Start</td>\n",
       "      <td>Job 0</td>\n",
       "      <td>Machine 0</td>\n",
       "      <td>NaN</td>\n",
       "      <td>NaN</td>\n",
       "    </tr>\n",
       "    <tr>\n",
       "      <th>66</th>\n",
       "      <td>25.47</td>\n",
       "      <td>Work Finish</td>\n",
       "      <td>Job 0</td>\n",
       "      <td>Machine 0</td>\n",
       "      <td>NaN</td>\n",
       "      <td>NaN</td>\n",
       "    </tr>\n",
       "    <tr>\n",
       "      <th>67</th>\n",
       "      <td>25.47</td>\n",
       "      <td>Completed</td>\n",
       "      <td>Job 0</td>\n",
       "      <td>Sink</td>\n",
       "      <td>NaN</td>\n",
       "      <td>0</td>\n",
       "    </tr>\n",
       "  </tbody>\n",
       "</table>\n",
       "</div>"
      ]
     },
     "execution_count": 9,
     "metadata": {},
     "output_type": "execute_result"
    }
   ],
   "execution_count": 9
  },
  {
   "metadata": {
    "ExecuteTime": {
     "end_time": "2024-10-11T06:44:57.559499Z",
     "start_time": "2024-10-11T06:44:57.459951Z"
    }
   },
   "cell_type": "code",
   "source": [
    "with open(\"241010_COVERT_sample100_test0_Unity_log.csv\", 'w') as f:\n",
    "    # column명 작성\n",
    "    f.write('Job,Machine,Created,Move,Setup,Start,Finish,JobSetup,MachineSetup\\n')\n",
    "\n",
    "for i in range(100):\n",
    "    j = data[data['Job']=='Job '+str(i)]\n",
    "    machine = j[j['Event']=='Setup']['Class'].values[0][-1]\n",
    "    created = j[j['Event']=='Created']['Time'].values[0]\n",
    "    move = j[j['Event']=='Setup']['Time'].values[0]\n",
    "    setup = move + 0.5\n",
    "    start = j[j['Event']=='Work Start']['Time'].values[0]\n",
    "    finish = j[j['Event']=='Work Finish']['Time'].values[0]\n",
    "    job_setup = j[j['Event']=='Setup']['Memo'].values[0][-1]\n",
    "    machine_setup = j[j['Event']=='Move to Machine']['Memo'].values[0][-1]\n",
    "    with open(\"241010_COVERT_sample100_test0_Unity_log.csv\", 'a') as f:\n",
    "        f.write('%s,%s,%.2f,%.2f,%.2f,%.2f,%.2f,%s,%s\\n'% (str(i), machine, created, move, setup, start,finish,job_setup,machine_setup))\n",
    "\n"
   ],
   "id": "9d9aba57527190f1",
   "outputs": [],
   "execution_count": 10
  },
  {
   "metadata": {},
   "cell_type": "code",
   "outputs": [],
   "execution_count": null,
   "source": "",
   "id": "a7d82292c2830a9b"
  }
 ],
 "metadata": {
  "kernelspec": {
   "display_name": "Python 3",
   "language": "python",
   "name": "python3"
  },
  "language_info": {
   "codemirror_mode": {
    "name": "ipython",
    "version": 2
   },
   "file_extension": ".py",
   "mimetype": "text/x-python",
   "name": "python",
   "nbconvert_exporter": "python",
   "pygments_lexer": "ipython2",
   "version": "2.7.6"
  }
 },
 "nbformat": 4,
 "nbformat_minor": 5
}
