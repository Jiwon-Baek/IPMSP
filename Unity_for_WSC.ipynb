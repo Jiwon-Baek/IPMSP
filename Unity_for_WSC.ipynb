{
 "cells": [
  {
   "cell_type": "code",
   "id": "initial_id",
   "metadata": {
    "collapsed": true,
    "ExecuteTime": {
     "end_time": "2024-10-08T09:54:13.038096Z",
     "start_time": "2024-10-08T09:54:12.968819Z"
    }
   },
   "source": [
    "import numpy as np\n",
    "\n",
    "import csv\n",
    "\n",
    "def save_to_csv(lmbda, num_job, filename):\n",
    "    # CSV 파일로 저장\n",
    "    data = np.random.exponential(lmbda, num_job)\n",
    "    with open(filename, mode='w', newline='') as file:\n",
    "        writer = csv.writer(file)\n",
    "        writer.writerow(['IAT'])\n",
    "        writer.writerows([[value] for value in data])\n",
    "    \n",
    "save_to_csv(15/5, 100, 'IAT100.csv')"
   ],
   "outputs": [],
   "execution_count": 1
  },
  {
   "metadata": {
    "ExecuteTime": {
     "end_time": "2024-10-08T10:12:26.043823Z",
     "start_time": "2024-10-08T10:12:26.038841Z"
    }
   },
   "cell_type": "code",
   "source": [
    "\n",
    "pt_var = np.random.uniform(low=0.8, high=1.2, size=100)\n",
    "with open('PT_var.csv', mode='w', newline='') as file:\n",
    "        writer = csv.writer(file)\n",
    "        writer.writerow(['PT_var'])\n",
    "        writer.writerows([[value] for value in pt_var])"
   ],
   "id": "7282d354a2bb37d4",
   "outputs": [],
   "execution_count": 5
  },
  {
   "metadata": {
    "ExecuteTime": {
     "end_time": "2024-10-08T09:55:41.986464Z",
     "start_time": "2024-10-08T09:55:41.806046Z"
    }
   },
   "cell_type": "code",
   "source": [
    "import pandas as pd\n",
    "iat = pd.read_csv('IAT100.csv')\n",
    "iat = iat.to_numpy()\n",
    "iat"
   ],
   "id": "89010173019fc1f2",
   "outputs": [
    {
     "data": {
      "text/plain": [
       "array([[ 5.38603568],\n",
       "       [ 1.82425636],\n",
       "       [ 1.72074858],\n",
       "       [ 0.70562717],\n",
       "       [ 0.37654486],\n",
       "       [ 4.81811595],\n",
       "       [ 3.59311379],\n",
       "       [ 1.76585937],\n",
       "       [ 0.72447898],\n",
       "       [ 3.82405637],\n",
       "       [ 6.04755007],\n",
       "       [ 0.55468317],\n",
       "       [ 1.99482198],\n",
       "       [ 1.85139571],\n",
       "       [ 6.84013837],\n",
       "       [ 0.40587147],\n",
       "       [ 0.87817582],\n",
       "       [ 3.19795572],\n",
       "       [ 2.14733539],\n",
       "       [ 3.80634823],\n",
       "       [ 2.27290688],\n",
       "       [ 1.27386117],\n",
       "       [ 6.32294138],\n",
       "       [ 5.06187672],\n",
       "       [ 3.870908  ],\n",
       "       [ 3.45317854],\n",
       "       [ 0.4088322 ],\n",
       "       [ 2.05294635],\n",
       "       [ 1.59487526],\n",
       "       [ 0.0399047 ],\n",
       "       [ 2.23472937],\n",
       "       [ 0.40941808],\n",
       "       [ 1.63186628],\n",
       "       [ 2.12573687],\n",
       "       [ 4.07456276],\n",
       "       [ 0.88749097],\n",
       "       [12.64708833],\n",
       "       [ 0.33807656],\n",
       "       [ 0.79597384],\n",
       "       [ 5.61247329],\n",
       "       [ 1.70710233],\n",
       "       [ 0.5673773 ],\n",
       "       [ 0.30267812],\n",
       "       [ 1.85338002],\n",
       "       [ 1.30437443],\n",
       "       [ 2.66149599],\n",
       "       [ 8.91250036],\n",
       "       [ 2.16302171],\n",
       "       [ 3.00737521],\n",
       "       [ 3.06119098],\n",
       "       [ 0.55898524],\n",
       "       [ 4.38992791],\n",
       "       [ 0.82461141],\n",
       "       [ 0.21400931],\n",
       "       [ 0.56974759],\n",
       "       [ 4.01330377],\n",
       "       [ 0.36621001],\n",
       "       [ 4.51141772],\n",
       "       [ 0.80451031],\n",
       "       [ 0.66362825],\n",
       "       [ 0.75458802],\n",
       "       [ 4.00865935],\n",
       "       [ 1.53472772],\n",
       "       [ 5.15558929],\n",
       "       [ 0.35651801],\n",
       "       [ 1.7956871 ],\n",
       "       [ 2.01257436],\n",
       "       [ 1.74625062],\n",
       "       [ 0.73364976],\n",
       "       [ 0.31921604],\n",
       "       [ 1.70517067],\n",
       "       [ 0.07568352],\n",
       "       [ 2.52708945],\n",
       "       [ 0.02194097],\n",
       "       [ 1.46034368],\n",
       "       [ 2.47489578],\n",
       "       [ 5.34562069],\n",
       "       [ 1.40285969],\n",
       "       [ 1.42310798],\n",
       "       [ 0.17985996],\n",
       "       [ 0.12081165],\n",
       "       [ 0.02173996],\n",
       "       [ 1.66722677],\n",
       "       [ 1.50019109],\n",
       "       [ 4.51529128],\n",
       "       [ 1.57613597],\n",
       "       [ 2.01431068],\n",
       "       [ 1.45521367],\n",
       "       [ 1.14069687],\n",
       "       [ 9.03641647],\n",
       "       [ 0.94873091],\n",
       "       [ 1.86600666],\n",
       "       [ 4.01370757],\n",
       "       [ 1.09689269],\n",
       "       [17.09909032],\n",
       "       [10.05114494],\n",
       "       [ 1.40725076],\n",
       "       [ 4.28490522],\n",
       "       [ 1.00082557],\n",
       "       [ 0.70110576]])"
      ]
     },
     "execution_count": 2,
     "metadata": {},
     "output_type": "execute_result"
    }
   ],
   "execution_count": 2
  },
  {
   "metadata": {},
   "cell_type": "code",
   "outputs": [],
   "execution_count": null,
   "source": "",
   "id": "1081e6e4f334b317"
  },
  {
   "metadata": {
    "ExecuteTime": {
     "end_time": "2024-10-08T10:26:25.253573Z",
     "start_time": "2024-10-08T10:26:25.232261Z"
    }
   },
   "cell_type": "code",
   "source": [
    "import pandas as pd\n",
    "\n",
    "data = pd.read_csv('./output/241008_Heuristic_Log_100/SSPT_sample100_test0.csv')\n",
    "j = data[data['Job']=='Job '+str(0)]\n",
    "j"
   ],
   "id": "2b90c984f6c1818b",
   "outputs": [
    {
     "data": {
      "text/plain": [
       "     Time            Event    Job      Class  Queue                Memo\n",
       "0    0.00          Created  Job 0     Source    NaN  26.210630105335863\n",
       "1    0.00  Move to Routing  Job 0     Source    1.0                 NaN\n",
       "8    0.00  Move to Machine  Job 0    Routing    0.0                   6\n",
       "9    0.00      Get the Job  Job 0  Machine 0    NaN                 NaN\n",
       "10   0.00            Setup  Job 0  Machine 0    NaN                   6\n",
       "17   6.00       Work Start  Job 0  Machine 0    NaN                 NaN\n",
       "66  25.47      Work Finish  Job 0  Machine 0    NaN                 NaN\n",
       "67  25.47        Completed  Job 0       Sink    NaN                   0"
      ],
      "text/html": [
       "<div>\n",
       "<style scoped>\n",
       "    .dataframe tbody tr th:only-of-type {\n",
       "        vertical-align: middle;\n",
       "    }\n",
       "\n",
       "    .dataframe tbody tr th {\n",
       "        vertical-align: top;\n",
       "    }\n",
       "\n",
       "    .dataframe thead th {\n",
       "        text-align: right;\n",
       "    }\n",
       "</style>\n",
       "<table border=\"1\" class=\"dataframe\">\n",
       "  <thead>\n",
       "    <tr style=\"text-align: right;\">\n",
       "      <th></th>\n",
       "      <th>Time</th>\n",
       "      <th>Event</th>\n",
       "      <th>Job</th>\n",
       "      <th>Class</th>\n",
       "      <th>Queue</th>\n",
       "      <th>Memo</th>\n",
       "    </tr>\n",
       "  </thead>\n",
       "  <tbody>\n",
       "    <tr>\n",
       "      <th>0</th>\n",
       "      <td>0.00</td>\n",
       "      <td>Created</td>\n",
       "      <td>Job 0</td>\n",
       "      <td>Source</td>\n",
       "      <td>NaN</td>\n",
       "      <td>26.210630105335863</td>\n",
       "    </tr>\n",
       "    <tr>\n",
       "      <th>1</th>\n",
       "      <td>0.00</td>\n",
       "      <td>Move to Routing</td>\n",
       "      <td>Job 0</td>\n",
       "      <td>Source</td>\n",
       "      <td>1.0</td>\n",
       "      <td>NaN</td>\n",
       "    </tr>\n",
       "    <tr>\n",
       "      <th>8</th>\n",
       "      <td>0.00</td>\n",
       "      <td>Move to Machine</td>\n",
       "      <td>Job 0</td>\n",
       "      <td>Routing</td>\n",
       "      <td>0.0</td>\n",
       "      <td>6</td>\n",
       "    </tr>\n",
       "    <tr>\n",
       "      <th>9</th>\n",
       "      <td>0.00</td>\n",
       "      <td>Get the Job</td>\n",
       "      <td>Job 0</td>\n",
       "      <td>Machine 0</td>\n",
       "      <td>NaN</td>\n",
       "      <td>NaN</td>\n",
       "    </tr>\n",
       "    <tr>\n",
       "      <th>10</th>\n",
       "      <td>0.00</td>\n",
       "      <td>Setup</td>\n",
       "      <td>Job 0</td>\n",
       "      <td>Machine 0</td>\n",
       "      <td>NaN</td>\n",
       "      <td>6</td>\n",
       "    </tr>\n",
       "    <tr>\n",
       "      <th>17</th>\n",
       "      <td>6.00</td>\n",
       "      <td>Work Start</td>\n",
       "      <td>Job 0</td>\n",
       "      <td>Machine 0</td>\n",
       "      <td>NaN</td>\n",
       "      <td>NaN</td>\n",
       "    </tr>\n",
       "    <tr>\n",
       "      <th>66</th>\n",
       "      <td>25.47</td>\n",
       "      <td>Work Finish</td>\n",
       "      <td>Job 0</td>\n",
       "      <td>Machine 0</td>\n",
       "      <td>NaN</td>\n",
       "      <td>NaN</td>\n",
       "    </tr>\n",
       "    <tr>\n",
       "      <th>67</th>\n",
       "      <td>25.47</td>\n",
       "      <td>Completed</td>\n",
       "      <td>Job 0</td>\n",
       "      <td>Sink</td>\n",
       "      <td>NaN</td>\n",
       "      <td>0</td>\n",
       "    </tr>\n",
       "  </tbody>\n",
       "</table>\n",
       "</div>"
      ]
     },
     "execution_count": 8,
     "metadata": {},
     "output_type": "execute_result"
    }
   ],
   "execution_count": 8
  },
  {
   "metadata": {
    "ExecuteTime": {
     "end_time": "2024-10-08T10:30:31.639618Z",
     "start_time": "2024-10-08T10:30:31.627659Z"
    }
   },
   "cell_type": "code",
   "source": [
    "move = j[j['Event']=='Setup']['Time'].values[0]\n",
    "start = j[j['Event']=='Work Start']['Time'].values[0]\n",
    "finish = j[j['Event']=='Work Finish']['Time'].values[0]"
   ],
   "id": "9bccc016677343b1",
   "outputs": [],
   "execution_count": 19
  },
  {
   "metadata": {
    "ExecuteTime": {
     "end_time": "2024-10-08T10:30:32.041924Z",
     "start_time": "2024-10-08T10:30:32.032954Z"
    }
   },
   "cell_type": "code",
   "source": "(move, start, finish)",
   "id": "24c55328a727fc22",
   "outputs": [
    {
     "data": {
      "text/plain": [
       "(0.0, 6.0, 25.47)"
      ]
     },
     "execution_count": 20,
     "metadata": {},
     "output_type": "execute_result"
    }
   ],
   "execution_count": 20
  },
  {
   "metadata": {
    "ExecuteTime": {
     "end_time": "2024-10-08T10:40:12.567175Z",
     "start_time": "2024-10-08T10:40:12.557696Z"
    }
   },
   "cell_type": "code",
   "source": [
    "machine = j[j['Event']=='Setup']['Class'].values[0][-1]\n",
    "machine"
   ],
   "id": "bb87abf743602107",
   "outputs": [
    {
     "data": {
      "text/plain": [
       "'4'"
      ]
     },
     "execution_count": 33,
     "metadata": {},
     "output_type": "execute_result"
    }
   ],
   "execution_count": 33
  },
  {
   "metadata": {
    "ExecuteTime": {
     "end_time": "2024-10-08T10:40:51.057448Z",
     "start_time": "2024-10-08T10:40:50.974878Z"
    }
   },
   "cell_type": "code",
   "source": [
    "with open(\"SSPT_sample100_test0_Unity_log.csv\", 'w') as f:\n",
    "    # column명 작성\n",
    "    f.write('Job,Machine,Created,Move,Setup,Start,Finish\\n')\n",
    "\n",
    "for i in range(100):\n",
    "    j = data[data['Job']=='Job '+str(i)]\n",
    "    machine = j[j['Event']=='Setup']['Class'].values[0][-1]\n",
    "    created = j[j['Event']=='Created']['Time'].values[0]\n",
    "    move = j[j['Event']=='Setup']['Time'].values[0]\n",
    "    setup = move + 0.5\n",
    "    start = j[j['Event']=='Work Start']['Time'].values[0]\n",
    "    finish = j[j['Event']=='Work Finish']['Time'].values[0]\n",
    "    with open(\"SSPT_sample100_test0_Unity_log.csv\", 'a') as f:\n",
    "        f.write('%s,%s,%.2f,%.2f,%.2f,%.2f,%.2f\\n'% (str(i), machine, created, move, setup, start,finish))\n",
    "\n"
   ],
   "id": "9d9aba57527190f1",
   "outputs": [],
   "execution_count": 34
  },
  {
   "metadata": {},
   "cell_type": "code",
   "outputs": [],
   "execution_count": null,
   "source": "",
   "id": "9352af627b43d242"
  }
 ],
 "metadata": {
  "kernelspec": {
   "display_name": "Python 3",
   "language": "python",
   "name": "python3"
  },
  "language_info": {
   "codemirror_mode": {
    "name": "ipython",
    "version": 2
   },
   "file_extension": ".py",
   "mimetype": "text/x-python",
   "name": "python",
   "nbconvert_exporter": "python",
   "pygments_lexer": "ipython2",
   "version": "2.7.6"
  }
 },
 "nbformat": 4,
 "nbformat_minor": 5
}
